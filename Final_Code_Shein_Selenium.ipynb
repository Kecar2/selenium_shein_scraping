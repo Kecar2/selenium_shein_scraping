{
 "cells": [
  {
   "cell_type": "code",
   "execution_count": 49,
   "id": "0637623f",
   "metadata": {},
   "outputs": [],
   "source": [
    "import selenium\n",
    "from selenium import webdriver\n",
    "import time\n",
    "import pandas as pd\n",
    "from bs4 import BeautifulSoup\n",
    "from selenium.webdriver.chrome.service import Service\n",
    "from webdriver_manager.chrome import ChromeDriverManager\n",
    "from selenium.webdriver.common.by import By"
   ]
  },
  {
   "cell_type": "code",
   "execution_count": 50,
   "id": "285d2182",
   "metadata": {},
   "outputs": [],
   "source": [
    "# Generating url for product\n",
    "\n",
    "def get_url(product):\n",
    "    product = product.replace(' ','%20')\n",
    "    template = 'https://es.shein.com/pdsearch/{}'\n",
    "    url = template.format(product)\n",
    "    return url"
   ]
  },
  {
   "cell_type": "code",
   "execution_count": 52,
   "id": "ab3aa7bc",
   "metadata": {},
   "outputs": [],
   "source": [
    "# Create a function which will fetch the product information\n",
    "\n",
    "def get_all_products(card):\n",
    "    pImg = card.find('img','falcon-lazyload')\n",
    "    try:\n",
    "        product_image = pImg['src']\n",
    "    except TypeError:\n",
    "        product_image = ''\n",
    "    product_name = card.find('div','S-product-item__name').text.strip()\n",
    "    product_price = card.find('div','S-product-item__price').text.strip()\n",
    "    anchor_tag = card.a.get('href')\n",
    "    product_buy_link = 'https://es.shein.com'+anchor_tag\n",
    "    \n",
    "    product_info = (product_image , product_name , product_price , product_buy_link)\n",
    "    \n",
    "    return product_info\n",
    "\n",
    "def main(product):\n",
    "    records = []\n",
    "    url = get_url(product)\n",
    "    \n",
    "    driver = webdriver.Chrome(service=Service(ChromeDriverManager().install()))\n",
    "    driver = webdriver.Chrome()\n",
    "    driver.get(url)\n",
    "    driver.maximize_window()\n",
    "    time.sleep(2)\n",
    "    \n",
    "    soup = BeautifulSoup(driver.page_source,'html.parser')\n",
    "    \n",
    "    product_cards = soup.find_all('section', 'S-product-item')\n",
    "    \n",
    "    \n",
    "    for everyProduct in product_cards:\n",
    "        productDetails = get_all_products(everyProduct)\n",
    "        records.append(productDetails)\n",
    "        \n",
    "# Here We Are Using Pandas Data Frame To Save Products Information In A CSV File\n",
    "\n",
    "    col = ['Product_Image','Product_Name','Product_Price','Product_Buy_Link']\n",
    "    \n",
    "    shein_data = pd.DataFrame(records, columns=col)\n",
    "    \n",
    "    shein_data.to_csv('C:\\\\Users\\\\kendr\\\\OneDrive\\\\Escritorio\\\\ProyectosPython\\\\SheinData.csv')\n",
    "    "
   ]
  },
  {
   "cell_type": "code",
   "execution_count": 53,
   "id": "ddd82c92",
   "metadata": {},
   "outputs": [
    {
     "name": "stdout",
     "output_type": "stream",
     "text": [
      "Enter Product You Are Looking For : jeans\n"
     ]
    }
   ],
   "source": [
    "product = input('Enter Product You Are Looking For : ')\n",
    "main(product)"
   ]
  }
 ],
 "metadata": {
  "kernelspec": {
   "display_name": "Python 3 (ipykernel)",
   "language": "python",
   "name": "python3"
  },
  "language_info": {
   "codemirror_mode": {
    "name": "ipython",
    "version": 3
   },
   "file_extension": ".py",
   "mimetype": "text/x-python",
   "name": "python",
   "nbconvert_exporter": "python",
   "pygments_lexer": "ipython3",
   "version": "3.9.12"
  }
 },
 "nbformat": 4,
 "nbformat_minor": 5
}
